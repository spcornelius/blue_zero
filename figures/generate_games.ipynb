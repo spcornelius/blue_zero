{
 "cells": [
  {
   "cell_type": "code",
   "execution_count": 1,
   "id": "198a0e22-6d70-47de-86f3-84414dc718ae",
   "metadata": {},
   "outputs": [],
   "source": [
    "%load_ext autoreload\n",
    "%autoreload\n",
    "import helpers\n",
    "import matplotlib.pyplot as plt\n",
    "from matplotlib import colors\n",
    "from blue_zero import config as cfg\n",
    "\n"
   ]
  },
  {
   "cell_type": "code",
   "execution_count": 93,
   "id": "0a09910c-03a8-4586-acfc-1d992c381e86",
   "metadata": {},
   "outputs": [],
   "source": [
    "n = 10\n",
    "p = 0.7\n",
    "mode = 0\n",
    "\n",
    "net = helpers.get_net(trained_mode=mode, n=n)\n",
    "agent=helpers.QAgent(net)\n",
    "n_games = 50\n",
    "envs = [helpers.mode_registry[mode].from_random((n, n), p) for _ in range(n_games)]\n",
    "agent.play(envs)\n",
    "\n",
    "five_movers = [e for e in envs if e.steps_taken == 5]\n",
    "\n",
    "plot_six_panel_game(five_movers[5])"
   ]
  }
 ],
 "metadata": {
  "kernelspec": {
   "display_name": "Python 3 (ipykernel)",
   "language": "python",
   "name": "python3"
  },
  "language_info": {
   "codemirror_mode": {
    "name": "ipython",
    "version": 3
   },
   "file_extension": ".py",
   "mimetype": "text/x-python",
   "name": "python",
   "nbconvert_exporter": "python",
   "pygments_lexer": "ipython3",
   "version": "3.8.11"
  }
 },
 "nbformat": 4,
 "nbformat_minor": 5
}
